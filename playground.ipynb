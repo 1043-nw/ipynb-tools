{
 "cells": [
  {
   "cell_type": "markdown",
   "metadata": {},
   "source": [
    "# ipynb 小工具开发"
   ]
  },
  {
   "cell_type": "markdown",
   "metadata": {},
   "source": [
    "## nbformat 测试"
   ]
  },
  {
   "cell_type": "code",
   "execution_count": 1,
   "metadata": {},
   "outputs": [],
   "source": [
    "import nbformat"
   ]
  },
  {
   "cell_type": "code",
   "execution_count": 2,
   "metadata": {},
   "outputs": [],
   "source": [
    "source = nbformat.read('demo.ipynb', as_version=nbformat.NO_CONVERT)"
   ]
  },
  {
   "cell_type": "code",
   "execution_count": 3,
   "metadata": {},
   "outputs": [
    {
     "name": "stdout",
     "output_type": "stream",
     "text": [
      "markdown cell\n",
      "code cell\n",
      "markdown cell\n",
      "code cell\n",
      "markdown cell\n",
      "code cell\n",
      "markdown cell\n"
     ]
    }
   ],
   "source": [
    "for cell in source['cells']:\n",
    "    print(cell['cell_type'], 'cell')"
   ]
  },
  {
   "cell_type": "code",
   "execution_count": 4,
   "metadata": {},
   "outputs": [],
   "source": [
    "dest = {\n",
    "    'cells': [],\n",
    "    'metadata': source['metadata'],\n",
    "    'nbformat': source['nbformat'],\n",
    "    'nbformat_minor': source['nbformat_minor']\n",
    "}\n",
    "code_cell = {\n",
    "    'cell_type': 'code',\n",
    "    'metadata': {},\n",
    "    'execution_count': 0,\n",
    "    'outputs': [],\n",
    "    'source': ['# 请在这里输入代码']\n",
    "}"
   ]
  },
  {
   "cell_type": "code",
   "execution_count": 5,
   "metadata": {},
   "outputs": [
    {
     "name": "stdout",
     "output_type": "stream",
     "text": [
      "{'cells': [], 'metadata': {'kernelspec': {'display_name': 'Python 3', 'language': 'python', 'name': 'python3'}, 'language_info': {'codemirror_mode': {'name': 'ipython', 'version': 3}, 'file_extension': '.py', 'mimetype': 'text/x-python', 'name': 'python', 'nbconvert_exporter': 'python', 'pygments_lexer': 'ipython3', 'version': '3.7.4'}}, 'nbformat': 4, 'nbformat_minor': 4}\n"
     ]
    }
   ],
   "source": [
    "print(dest)"
   ]
  },
  {
   "cell_type": "code",
   "execution_count": 6,
   "metadata": {},
   "outputs": [],
   "source": [
    "for cell in source['cells']:\n",
    "    if cell['cell_type'] == 'code':\n",
    "        dest['cells'].append(code_cell)\n",
    "    else:\n",
    "        dest['cells'].append(cell)"
   ]
  },
  {
   "cell_type": "code",
   "execution_count": 7,
   "metadata": {},
   "outputs": [
    {
     "name": "stdout",
     "output_type": "stream",
     "text": [
      "{'cells': [{'cell_type': 'markdown', 'metadata': {}, 'source': '## 欢迎来到编程世界！'}, {'cell_type': 'code', 'metadata': {}, 'outputs': [], 'source': ['# 请在这里输入代码']}, {'cell_type': 'markdown', 'metadata': {}, 'source': '在这里我们可以做计算——'}, {'cell_type': 'code', 'metadata': {}, 'outputs': [], 'source': ['# 请在这里输入代码']}, {'cell_type': 'markdown', 'metadata': {}, 'source': '也可以分析数据——'}, {'cell_type': 'code', 'metadata': {}, 'outputs': [], 'source': ['# 请在这里输入代码']}, {'cell_type': 'markdown', 'metadata': {}, 'source': '……以及计算机能帮助我们做的好多事。一起来试试？'}], 'metadata': {'kernelspec': {'display_name': 'Python 3', 'language': 'python', 'name': 'python3'}, 'language_info': {'codemirror_mode': {'name': 'ipython', 'version': 3}, 'file_extension': '.py', 'mimetype': 'text/x-python', 'name': 'python', 'nbconvert_exporter': 'python', 'pygments_lexer': 'ipython3', 'version': '3.7.4'}}, 'nbformat': 4, 'nbformat_minor': 4}\n"
     ]
    }
   ],
   "source": [
    "print(dest)"
   ]
  },
  {
   "cell_type": "code",
   "execution_count": 8,
   "metadata": {},
   "outputs": [],
   "source": [
    "nbformat.write(nbformat.from_dict(dest), 'redacted.ipynb', version=nbformat.NO_CONVERT)"
   ]
  },
  {
   "cell_type": "markdown",
   "metadata": {},
   "source": [
    "## 文件结构同步测试"
   ]
  },
  {
   "cell_type": "code",
   "execution_count": 109,
   "metadata": {},
   "outputs": [],
   "source": [
    "from pathlib import Path\n",
    "from configparser import ConfigParser\n",
    "from itertools import chain\n",
    "from datetime import datetime"
   ]
  },
  {
   "cell_type": "code",
   "execution_count": 110,
   "metadata": {},
   "outputs": [],
   "source": [
    "parser = ConfigParser()\n",
    "parser.read('test.ini')\n",
    "\n",
    "source = parser.get('path', 'source')\n",
    "dest = parser.get('path', 'dest')"
   ]
  },
  {
   "cell_type": "code",
   "execution_count": 111,
   "metadata": {},
   "outputs": [
    {
     "name": "stdout",
     "output_type": "stream",
     "text": [
      "source /Users/neo/Downloads\n"
     ]
    }
   ],
   "source": [
    "print(source, dest)"
   ]
  },
  {
   "cell_type": "code",
   "execution_count": 112,
   "metadata": {},
   "outputs": [],
   "source": [
    "p = Path(source).absolute()"
   ]
  },
  {
   "cell_type": "code",
   "execution_count": 113,
   "metadata": {},
   "outputs": [
    {
     "data": {
      "text/plain": [
       "[PosixPath('/Users/neo/Code/Python/Learn/ipynb-tools/source/demo.ipynb'),\n",
       " PosixPath('/Users/neo/Code/Python/Learn/ipynb-tools/source/p4/6-data-1.ipynb'),\n",
       " PosixPath('/Users/neo/Code/Python/Learn/ipynb-tools/source/p4/d-function-is-data.ipynb'),\n",
       " PosixPath('/Users/neo/Code/Python/Learn/ipynb-tools/source/p0/1-how-to-read.ipynb'),\n",
       " PosixPath('/Users/neo/Code/Python/Learn/ipynb-tools/source/x/1-setup.ipynb'),\n",
       " PosixPath('/Users/neo/Code/Python/Learn/ipynb-tools/source/x/8-regex.ipynb'),\n",
       " PosixPath('/Users/neo/Code/Python/Learn/ipynb-tools/source/p4/trap/zero.ipynb')]"
      ]
     },
     "execution_count": 113,
     "metadata": {},
     "output_type": "execute_result"
    }
   ],
   "source": [
    "list(chain(p.glob('[!.]*.ipynb'), p.glob('**/[!.]*/*.ipynb')))"
   ]
  },
  {
   "cell_type": "code",
   "execution_count": 115,
   "metadata": {},
   "outputs": [
    {
     "name": "stdout",
     "output_type": "stream",
     "text": [
      "processing /Users/neo/Code/Python/Learn/ipynb-tools/source/demo.ipynb...\n",
      "create /Users/neo/Downloads...\n",
      "saving /Users/neo/Downloads/demo.ipynb...\n",
      "processing /Users/neo/Code/Python/Learn/ipynb-tools/source/p4/6-data-1.ipynb...\n",
      "create /Users/neo/Downloads/p4...\n",
      "saving /Users/neo/Downloads/p4/6-data-1.ipynb...\n",
      "processing /Users/neo/Code/Python/Learn/ipynb-tools/source/p4/d-function-is-data.ipynb...\n",
      "create /Users/neo/Downloads/p4...\n",
      "saving /Users/neo/Downloads/p4/d-function-is-data.ipynb...\n",
      "processing /Users/neo/Code/Python/Learn/ipynb-tools/source/p0/1-how-to-read.ipynb...\n",
      "create /Users/neo/Downloads/p0...\n",
      "saving /Users/neo/Downloads/p0/1-how-to-read.ipynb...\n",
      "processing /Users/neo/Code/Python/Learn/ipynb-tools/source/x/1-setup.ipynb...\n",
      "create /Users/neo/Downloads/x...\n",
      "saving /Users/neo/Downloads/x/1-setup.ipynb...\n",
      "processing /Users/neo/Code/Python/Learn/ipynb-tools/source/x/8-regex.ipynb...\n",
      "create /Users/neo/Downloads/x...\n",
      "saving /Users/neo/Downloads/x/8-regex.ipynb...\n",
      "processing /Users/neo/Code/Python/Learn/ipynb-tools/source/p4/trap/zero.ipynb...\n",
      "create /Users/neo/Downloads/p4/trap...\n",
      "saving /Users/neo/Downloads/p4/trap/zero.ipynb...\n"
     ]
    }
   ],
   "source": [
    "for f1 in chain(p.glob('[!.]*.ipynb'), p.glob('**/[!.]*/*.ipynb')):\n",
    "    t = datetime.fromtimestamp(f1.stat().st_mtime)\n",
    "    print(f'processing {f1}...')\n",
    "    rpath = f1.relative_to(p)\n",
    "    f2 = dest / rpath\n",
    "    d = f2.parent\n",
    "    print(f'create {d}...')\n",
    "    # d.mkdir(parents=True, exist_ok=True)\n",
    "    print(f'saving {f2}...')"
   ]
  },
  {
   "cell_type": "code",
   "execution_count": 116,
   "metadata": {},
   "outputs": [
    {
     "data": {
      "text/plain": [
       "[PosixPath('/Users/neo/Code/Python/Learn/ipynb-tools/source/p4/assets')]"
      ]
     },
     "execution_count": 116,
     "metadata": {},
     "output_type": "execute_result"
    }
   ],
   "source": [
    "list(p.glob('**/assets'))"
   ]
  },
  {
   "cell_type": "code",
   "execution_count": null,
   "metadata": {},
   "outputs": [],
   "source": []
  }
 ],
 "metadata": {
  "kernelspec": {
   "display_name": "Python 3",
   "language": "python",
   "name": "python3"
  },
  "language_info": {
   "codemirror_mode": {
    "name": "ipython",
    "version": 3
   },
   "file_extension": ".py",
   "mimetype": "text/x-python",
   "name": "python",
   "nbconvert_exporter": "python",
   "pygments_lexer": "ipython3",
   "version": "3.7.4"
  }
 },
 "nbformat": 4,
 "nbformat_minor": 4
}

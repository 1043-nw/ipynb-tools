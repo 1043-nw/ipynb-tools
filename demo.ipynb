{
  "cells": [
    {
      "cell_type": "markdown",
      "source": [
        "## 欢迎来到编程世界！"
      ],
      "metadata": {}
    },
    {
      "cell_type": "code",
      "source": [
        "print('Hello, world of programming!')"
      ],
      "outputs": [
        {
          "output_type": "stream",
          "name": "stdout",
          "text": [
            "Hello, world of programming!\n"
          ]
        }
      ],
      "execution_count": 1,
      "metadata": {
        "execution": {
          "iopub.status.busy": "2020-04-30T11:49:13.821Z",
          "iopub.execute_input": "2020-04-30T11:49:13.828Z",
          "iopub.status.idle": "2020-04-30T11:49:13.833Z",
          "shell.execute_reply": "2020-04-30T11:49:13.865Z"
        }
      }
    },
    {
      "cell_type": "markdown",
      "source": [
        "在这里我们可以做计算——"
      ],
      "metadata": {}
    },
    {
      "cell_type": "code",
      "source": [
        "from itertools import islice\n",
        "\n",
        "def primes():\n",
        "    sieve = {}\n",
        "    \n",
        "    q = 2    \n",
        "    while True:\n",
        "        if q not in sieve:\n",
        "            yield q\n",
        "            sieve[q * q] = [q]\n",
        "        else:\n",
        "            for p in sieve[q]:\n",
        "                sieve.setdefault(p + q, []).append(p)\n",
        "            del sieve[q]\n",
        "        \n",
        "        q += 1"
      ],
      "outputs": [],
      "execution_count": 2,
      "metadata": {
        "execution": {
          "shell.execute_reply": "2020-04-30T11:49:13.867Z",
          "iopub.status.busy": "2020-04-30T11:49:13.837Z",
          "iopub.execute_input": "2020-04-30T11:49:13.840Z",
          "iopub.status.idle": "2020-04-30T11:49:13.844Z"
        }
      }
    },
    {
      "cell_type": "code",
      "source": [
        "list(islice(primes(), 0, 10))"
      ],
      "outputs": [
        {
          "output_type": "execute_result",
          "execution_count": 3,
          "data": {
            "text/plain": [
              "[2, 3, 5, 7, 11, 13, 17, 19, 23, 29]"
            ]
          },
          "metadata": {}
        }
      ],
      "execution_count": 3,
      "metadata": {
        "collapsed": true,
        "outputExpanded": false,
        "jupyter": {
          "source_hidden": false,
          "outputs_hidden": false
        },
        "nteract": {
          "transient": {
            "deleting": false
          }
        },
        "execution": {
          "iopub.status.busy": "2020-04-30T11:49:13.848Z",
          "iopub.execute_input": "2020-04-30T11:49:13.851Z",
          "iopub.status.idle": "2020-04-30T11:49:13.857Z",
          "shell.execute_reply": "2020-04-30T11:49:13.868Z"
        }
      }
    },
    {
      "cell_type": "markdown",
      "source": [
        "也可以分析数据——"
      ],
      "metadata": {}
    },
    {
      "cell_type": "code",
      "source": [
        "%matplotlib inline\n",
        "\n",
        "import matplotlib\n",
        "import numpy as np\n",
        "import matplotlib.pyplot as plt\n",
        "\n",
        "# Data from:\n",
        "# https://databank.worldbank.org/data/reports.aspx?source=2&series=SP.DYN.LE00.IN\n",
        "data = np.genfromtxt('assets/life-expectancy-china-1960-2016.csv',\n",
        "                     delimiter=',',\n",
        "                     names=['x', 'y'])\n",
        "le1960  = data[0][1]\n",
        "le2016  = data[-1][1]\n",
        "delta = (le2016 - le1960) / le1960\n",
        "note = f'increased {delta:.2%}, from {le1960:.2f} yrs in 1960 to {le2016:.2f} yrs in 2016'\n",
        "\n",
        "plt.figure(figsize=(10, 5))\n",
        "plt.plot(data['x'], data['y'])\n",
        "plt.ylabel('Life Expectancy from Birth')\n",
        "plt.tick_params(axis='x', rotation=70)\n",
        "plt.title('Life Expectancy in China\\n' + note)\n",
        "\n",
        "# plt.savefig('life-expectancy-china-1960-2016.png', transparent=True)\n",
        "plt.show()"
      ],
      "outputs": [
        {
          "output_type": "display_data",
          "data": {
            "text/plain": [
              "<Figure size 720x360 with 1 Axes>"
            ],
            "image/png": "[encoded data removed]"
          },
          "metadata": {
            "needs_background": "light"
          }
        }
      ],
      "execution_count": 4,
      "metadata": {
        "execution": {
          "iopub.status.busy": "2020-04-30T11:49:13.861Z",
          "iopub.execute_input": "2020-04-30T11:49:13.863Z",
          "iopub.status.idle": "2020-04-30T11:49:14.356Z",
          "shell.execute_reply": "2020-04-30T11:49:14.361Z"
        }
      }
    },
    {
      "cell_type": "markdown",
      "source": [
        "……以及计算机能帮助我们做的好多事。一起来试试？"
      ],
      "metadata": {}
    }
  ],
  "metadata": {
    "kernelspec": {
      "display_name": "Python 3",
      "language": "python",
      "name": "python3"
    },
    "language_info": {
      "name": "python",
      "version": "3.7.4",
      "mimetype": "text/x-python",
      "codemirror_mode": {
        "name": "ipython",
        "version": 3
      },
      "pygments_lexer": "ipython3",
      "nbconvert_exporter": "python",
      "file_extension": ".py"
    },
    "nteract": {
      "version": "0.22.4"
    }
  },
  "nbformat": 4,
  "nbformat_minor": 4
}